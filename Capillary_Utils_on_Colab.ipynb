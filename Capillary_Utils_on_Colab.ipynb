{
  "cells": [
    {
      "cell_type": "markdown",
      "metadata": {
        "colab_type": "text",
        "id": "view-in-github"
      },
      "source": [
        "<a href=\"https://colab.research.google.com/github/Yokohide0317/Capillary-Utils/blob/main/Capillary_Utils_on_Colab.ipynb\" target=\"_parent\"><img src=\"https://colab.research.google.com/assets/colab-badge.svg\" alt=\"Open In Colab\"/></a>"
      ]
    },
    {
      "cell_type": "markdown",
      "metadata": {
        "id": "IVHBuqjPxoo6"
      },
      "source": [
        "# Capillary-Utils on Colab\n",
        "\n",
        "まず、下のセルを実行します。<br>\n",
        "（再生マークを押す or セルを選択し、 Shift + Enter）"
      ]
    },
    {
      "cell_type": "code",
      "execution_count": null,
      "metadata": {
        "id": "UT3Uqnfkw-mS"
      },
      "outputs": [],
      "source": [
        "!git clone https://github.com/Yokohide0317/Capillary-Utils.git\n",
        "!bash Capillary-Utils/setup4colab.sh"
      ]
    },
    {
      "cell_type": "markdown",
      "metadata": {
        "id": "kTC9Ex55yB9G"
      },
      "source": [
        "# ファイルをアップロード\n",
        "左のファイルマークをクリックし、`input`ディレクトリにファイルをアップロードします。<br><br>\n",
        "\n",
        "もし、`input`ディレクトリが見えない場合、<br>\n",
        "ファイルタブ上のリロードマークを押してください。<br><br>\n",
        "\n",
        "アップロードが終わったら、下のセルを実行します。"
      ]
    },
    {
      "cell_type": "code",
      "execution_count": null,
      "metadata": {
        "id": "sBNPXmRYxDbd"
      },
      "outputs": [],
      "source": [
        "!python3 Capillary-Utils/app/capillary_cli.py all -d /content/input -o /content/output"
      ]
    },
    {
      "cell_type": "markdown",
      "metadata": {
        "id": "chlCqrQVycL-"
      },
      "source": [
        "# 結果のダウンロード\n",
        "`output`ディレクトリに結果ファイルが入っています。<br>\n",
        "下のセルを実行し、ダウンロードしてください。<br>\n",
        "\n",
        "| ファイル | 用途 |\n",
        "| :---: | :---: |\n",
        "| .html | ab1ファイルの可視化。PC上でダブルクリックで開けます。 |\n",
        "| .fasta | クォリティ無しの塩基配列ファイル。メモ帳などで開けます。 |\n",
        "| .fastq | クォリティ有りの塩基配列ファイル。メモ帳などで開けます。 |\n"
      ]
    },
    {
      "cell_type": "code",
      "execution_count": null,
      "metadata": {},
      "outputs": [],
      "source": [
        "!zip -r /content/download.zip /content/output\n",
        "\n",
        "# 圧縮した zip ファイルをダウンロードする\n",
        "from google.colab import files\n",
        "files.download(\"/content/download.zip\")"
      ]
    }
  ],
  "metadata": {
    "colab": {
      "authorship_tag": "ABX9TyMBhhRoJOc1y/EvttyTPO0X",
      "include_colab_link": true,
      "provenance": []
    },
    "kernelspec": {
      "display_name": "Python 3",
      "name": "python3"
    },
    "language_info": {
      "name": "python",
      "version": "3.10.13"
    }
  },
  "nbformat": 4,
  "nbformat_minor": 0
}
