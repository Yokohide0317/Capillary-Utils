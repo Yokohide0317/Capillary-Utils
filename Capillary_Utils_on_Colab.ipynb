{
  "nbformat": 4,
  "nbformat_minor": 0,
  "metadata": {
    "colab": {
      "provenance": [],
      "authorship_tag": "ABX9TyMBhhRoJOc1y/EvttyTPO0X",
      "include_colab_link": true
    },
    "kernelspec": {
      "name": "python3",
      "display_name": "Python 3"
    },
    "language_info": {
      "name": "python"
    }
  },
  "cells": [
    {
      "cell_type": "markdown",
      "metadata": {
        "id": "view-in-github",
        "colab_type": "text"
      },
      "source": [
        "<a href=\"https://colab.research.google.com/github/Yokohide0317/Capillary-Utils/blob/main/Capillary_Utils_on_Colab.ipynb\" target=\"_parent\"><img src=\"https://colab.research.google.com/assets/colab-badge.svg\" alt=\"Open In Colab\"/></a>"
      ]
    },
    {
      "cell_type": "markdown",
      "source": [
        "# Capillary-Utils on Colab\n",
        "\n",
        "まず、下のセルを実行します。<br>\n",
        "（再生マークを押す or セルを選択し、 Shift + Enter）"
      ],
      "metadata": {
        "id": "IVHBuqjPxoo6"
      }
    },
    {
      "cell_type": "code",
      "source": [
        "!git clone https://github.com/Yokohide0317/Capillary-Utils.git\n",
        "!bash Capillary-Utils/setup4colab.sh"
      ],
      "metadata": {
        "id": "UT3Uqnfkw-mS"
      },
      "execution_count": null,
      "outputs": []
    },
    {
      "cell_type": "markdown",
      "source": [
        "# ファイルをアップロード\n",
        "左のファイルマークをクリックし、`input`ディレクトリにファイルをアップロードします。<br><br>\n",
        "\n",
        "もし、`input`ディレクトリが見えない場合、<br>\n",
        "ファイルタブ上のリロードマークを押してください。<br><br>\n",
        "\n",
        "アップロードが終わったら、下のセルを実行します。"
      ],
      "metadata": {
        "id": "kTC9Ex55yB9G"
      }
    },
    {
      "cell_type": "code",
      "source": [
        "!python3 Capillary-Utils/app/capillary_cli.py all -d /content/input -o output"
      ],
      "metadata": {
        "id": "sBNPXmRYxDbd"
      },
      "execution_count": null,
      "outputs": []
    },
    {
      "cell_type": "markdown",
      "source": [
        "# 結果のダウンロード\n",
        "`output`ディレクトリに結果ファイルが入っています。<br>\n",
        "右クリックし、ダウンロードしてください。<br>\n",
        "\n",
        "| ファイル | 用途 |\n",
        "| :---: | :---: |\n",
        "| .html | ab1ファイルの可視化。PC上でダブルクリックで開けます。 |\n",
        "| .fasta | クォリティ無しの塩基配列ファイル。メモ帳などで開けます。 |\n",
        "| .fastq | クォリティ有りの塩基配列ファイル。メモ帳などで開けます。 |\n"
      ],
      "metadata": {
        "id": "chlCqrQVycL-"
      }
    }
  ]
}